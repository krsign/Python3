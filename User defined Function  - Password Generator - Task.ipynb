{
 "cells": [
  {
   "cell_type": "code",
   "execution_count": 4,
   "metadata": {},
   "outputs": [
    {
     "name": "stdout",
     "output_type": "stream",
     "text": [
      "@L2c4185\n"
     ]
    }
   ],
   "source": [
    "import random\n",
    "\n",
    "def gen_password():\n",
    "    \n",
    "    lower = str(chr(random.randint(ord('a'),ord('z'))))\n",
    "    upper = str(chr(random.randint(ord('A'),ord('Z'))))\n",
    "    \n",
    "    char = ['!','@','#','$','&']\n",
    "    special = str(random.choice(char))\n",
    "    \n",
    "    digit = str(random.randint(10000,99999))\n",
    "    \n",
    "    merge = lower + upper + special + digit\n",
    "    \n",
    "    password = ''.join(random.sample(merge,8))\n",
    "    \n",
    "    return password\n",
    "       \n",
    "print(gen_password())"
   ]
  }
 ],
 "metadata": {
  "kernelspec": {
   "display_name": "Python 3",
   "language": "python",
   "name": "python3"
  },
  "language_info": {
   "codemirror_mode": {
    "name": "ipython",
    "version": 3
   },
   "file_extension": ".py",
   "mimetype": "text/x-python",
   "name": "python",
   "nbconvert_exporter": "python",
   "pygments_lexer": "ipython3",
   "version": "3.7.4"
  }
 },
 "nbformat": 4,
 "nbformat_minor": 2
}
