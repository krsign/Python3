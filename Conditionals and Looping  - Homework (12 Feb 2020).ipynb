{
 "cells": [
  {
   "cell_type": "markdown",
   "metadata": {},
   "source": [
    "# Write 1 to 5 Table\n",
    "\n",
    "Expected Output:\n",
    "\n",
    "1\t\t2\t\t3\t\t4\t\t5\t\t\n",
    "\n",
    "2\t\t4\t\t6\t\t8\t\t10\t\t\n",
    "\n",
    "3\t\t6\t\t9\t\t12\t\t15\t\t\n",
    "\n",
    "4\t\t8\t\t12\t\t16\t\t20\t\t\n",
    "\n",
    "5\t\t10\t\t15\t\t20\t\t25\t\t\n",
    "\n",
    "6\t\t12\t\t18\t\t24\t\t30\t\t\n",
    "\n",
    "7\t\t14\t\t21\t\t28\t\t35\t\t\n",
    "\n",
    "8\t\t16\t\t24\t\t32\t\t40\t\t\n",
    "\n",
    "9\t\t18\t\t27\t\t36\t\t45\t\t\n",
    "\n",
    "10\t\t20\t\t30\t\t40\t\t50\t\t\n"
   ]
  },
  {
   "cell_type": "code",
   "execution_count": 1,
   "metadata": {},
   "outputs": [
    {
     "name": "stdout",
     "output_type": "stream",
     "text": [
      "1\t\t2\t\t3\t\t4\t\t5\t\t\n",
      "\n",
      "2\t\t4\t\t6\t\t8\t\t10\t\t\n",
      "\n",
      "3\t\t6\t\t9\t\t12\t\t15\t\t\n",
      "\n",
      "4\t\t8\t\t12\t\t16\t\t20\t\t\n",
      "\n",
      "5\t\t10\t\t15\t\t20\t\t25\t\t\n",
      "\n",
      "6\t\t12\t\t18\t\t24\t\t30\t\t\n",
      "\n",
      "7\t\t14\t\t21\t\t28\t\t35\t\t\n",
      "\n",
      "8\t\t16\t\t24\t\t32\t\t40\t\t\n",
      "\n",
      "9\t\t18\t\t27\t\t36\t\t45\t\t\n",
      "\n",
      "10\t\t20\t\t30\t\t40\t\t50\t\t\n",
      "\n"
     ]
    }
   ],
   "source": [
    "for i in range(1,11):\n",
    "\n",
    "    for j in range(1,6):\n",
    "        k = i*j\n",
    "        print(k, end='\\t\\t')\n",
    "    print('\\n')"
   ]
  },
  {
   "cell_type": "markdown",
   "metadata": {},
   "source": [
    "# Print Second Max Value From List. \n",
    "\n",
    "List = [100,45,12,74,90,150,4,2,1]\n",
    "\n",
    "Expected Output Should be:\n",
    "100\n"
   ]
  },
  {
   "cell_type": "code",
   "execution_count": 4,
   "metadata": {},
   "outputs": [
    {
     "name": "stdout",
     "output_type": "stream",
     "text": [
      "Max Value From List:  150\n",
      "Second Max From List:  100\n"
     ]
    }
   ],
   "source": [
    "nums = [100,45,12,74,90,150,4,2,1]\n",
    "max_value = 0\n",
    "sec_max = 0\n",
    "for num in nums:\n",
    "    if num > max_value and num > sec_max:\n",
    "        sec_max = max_value\n",
    "        max_value = num\n",
    "    elif num < max_value and num > sec_max:\n",
    "        max_2 = num\n",
    "print('Max Value From List: ',max_value)\n",
    "print('Second Max From List: ',sec_max)"
   ]
  }
 ],
 "metadata": {
  "kernelspec": {
   "display_name": "Python 3",
   "language": "python",
   "name": "python3"
  },
  "language_info": {
   "codemirror_mode": {
    "name": "ipython",
    "version": 3
   },
   "file_extension": ".py",
   "mimetype": "text/x-python",
   "name": "python",
   "nbconvert_exporter": "python",
   "pygments_lexer": "ipython3",
   "version": "3.7.4"
  }
 },
 "nbformat": 4,
 "nbformat_minor": 2
}
