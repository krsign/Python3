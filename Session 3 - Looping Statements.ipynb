{
 "cells": [
  {
   "cell_type": "code",
   "execution_count": 10,
   "metadata": {},
   "outputs": [
    {
     "name": "stdout",
     "output_type": "stream",
     "text": [
      "150\n"
     ]
    }
   ],
   "source": [
    "num = [10,20,30,40,50]\n",
    "sum = 0\n",
    "for i in num:\n",
    "    sum += i\n",
    "print(sum)"
   ]
  },
  {
   "cell_type": "code",
   "execution_count": 21,
   "metadata": {},
   "outputs": [
    {
     "name": "stdout",
     "output_type": "stream",
     "text": [
      "o\n",
      "i\n",
      "e\n",
      "a\n",
      "o\n",
      "e\n",
      "a\n"
     ]
    }
   ],
   "source": [
    "chars = 'Python is easy to learn'\n",
    "vowels = ['a','e','i','o','u']\n",
    "for char in chars:\n",
    "    if char in vowels:\n",
    "        print(char)"
   ]
  },
  {
   "cell_type": "code",
   "execution_count": 22,
   "metadata": {},
   "outputs": [
    {
     "name": "stdout",
     "output_type": "stream",
     "text": [
      "150\n"
     ]
    }
   ],
   "source": [
    "nums = [100,45,12,74,90,150,4,2,1]\n",
    "max = 0\n",
    "for num in nums:\n",
    "    if num > max:\n",
    "        max = num\n",
    "print(max)"
   ]
  },
  {
   "cell_type": "code",
   "execution_count": 26,
   "metadata": {},
   "outputs": [
    {
     "name": "stdout",
     "output_type": "stream",
     "text": [
      "5\n",
      "10\n",
      "15\n",
      "20\n",
      "25\n",
      "30\n",
      "35\n",
      "40\n",
      "45\n",
      "50\n"
     ]
    }
   ],
   "source": [
    "for i in range(5,51,5):\n",
    "    print(i)\n",
    "    "
   ]
  },
  {
   "cell_type": "code",
   "execution_count": 28,
   "metadata": {},
   "outputs": [
    {
     "name": "stdout",
     "output_type": "stream",
     "text": [
      "Number Not Found\n"
     ]
    }
   ],
   "source": [
    "num = [10,20,30,40,50]\n",
    "key = 300\n",
    "for value in num:\n",
    "    if key == value:\n",
    "        print('Number Not Found')\n",
    "        break\n",
    "else:\n",
    "    print('Number Not Found')"
   ]
  },
  {
   "cell_type": "code",
   "execution_count": 47,
   "metadata": {},
   "outputs": [
    {
     "name": "stdout",
     "output_type": "stream",
     "text": [
      "1\t\t2\t\t3\t\t4\t\t5\t\t\n",
      "\n",
      "2\t\t4\t\t6\t\t8\t\t10\t\t\n",
      "\n",
      "3\t\t6\t\t9\t\t12\t\t15\t\t\n",
      "\n",
      "4\t\t8\t\t12\t\t16\t\t20\t\t\n",
      "\n",
      "5\t\t10\t\t15\t\t20\t\t25\t\t\n",
      "\n",
      "6\t\t12\t\t18\t\t24\t\t30\t\t\n",
      "\n",
      "7\t\t14\t\t21\t\t28\t\t35\t\t\n",
      "\n",
      "8\t\t16\t\t24\t\t32\t\t40\t\t\n",
      "\n",
      "9\t\t18\t\t27\t\t36\t\t45\t\t\n",
      "\n",
      "10\t\t20\t\t30\t\t40\t\t50\t\t\n",
      "\n"
     ]
    }
   ],
   "source": [
    "for i in range(1,11):\n",
    "\n",
    "    for j in range(1,6):\n",
    "        k = i*j\n",
    "        print(k, end='\\t\\t')\n",
    "    print('\\n')"
   ]
  },
  {
   "cell_type": "code",
   "execution_count": 56,
   "metadata": {},
   "outputs": [
    {
     "name": "stdout",
     "output_type": "stream",
     "text": [
      "150\n",
      "100\n"
     ]
    }
   ],
   "source": [
    "nums = [100,45,12,74,90,150,4,2,1]\n",
    "max_value = 0\n",
    "sec_max = 0\n",
    "for num in nums:\n",
    "    if num > max_value and num > sec_max:\n",
    "        sec_max = max_value\n",
    "        max_value = num\n",
    "    elif num < max_value and num > sec_max:\n",
    "        max_2 = num\n",
    "print(max_value)\n",
    "print(sec_max)"
   ]
  }
 ],
 "metadata": {
  "kernelspec": {
   "display_name": "Python 3",
   "language": "python",
   "name": "python3"
  },
  "language_info": {
   "codemirror_mode": {
    "name": "ipython",
    "version": 3
   },
   "file_extension": ".py",
   "mimetype": "text/x-python",
   "name": "python",
   "nbconvert_exporter": "python",
   "pygments_lexer": "ipython3",
   "version": "3.7.4"
  }
 },
 "nbformat": 4,
 "nbformat_minor": 2
}
