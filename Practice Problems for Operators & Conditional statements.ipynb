{
 "cells": [
  {
   "cell_type": "markdown",
   "metadata": {},
   "source": [
    "\n",
    "\n",
    "\n",
    "# 1\n",
    "Take values of length and breadth of a rectangle from user and check if it is square or not. Return area."
   ]
  },
  {
   "cell_type": "code",
   "execution_count": 6,
   "metadata": {},
   "outputs": [
    {
     "name": "stdout",
     "output_type": "stream",
     "text": [
      "Enter Length: 4\n",
      "Enter Breadth: 4\n",
      "It's square\n",
      "Area:  16\n"
     ]
    }
   ],
   "source": [
    "def rectangle(length,breadth):\n",
    "    if length == breadth:\n",
    "        print(\"It's square\")\n",
    "    else:\n",
    "        print('Not Ractangle')\n",
    "    \n",
    "    return length * breadth\n",
    "\n",
    "\n",
    "length = int(input('Enter Length: '))\n",
    "breadth = int(input('Enter Breadth: '))\n",
    "\n",
    "print(\"Area: \",rectangle(length,breadth))"
   ]
  },
  {
   "cell_type": "markdown",
   "metadata": {},
   "source": [
    "\n",
    "\n",
    "\n",
    "# 2\n",
    "Write a Python program which accepts the radius of a circle from the user and compute the area.\n"
   ]
  },
  {
   "cell_type": "code",
   "execution_count": 7,
   "metadata": {},
   "outputs": [
    {
     "name": "stdout",
     "output_type": "stream",
     "text": [
      "Enter Radius: 4\n",
      "Circle Area:  50.24\n"
     ]
    }
   ],
   "source": [
    "def circle(radius):\n",
    "    pi = 3.14\n",
    "    return pi*(radius*radius)\n",
    "radius = float(input('Enter Radius: '))\n",
    "print('Circle Area: ', circle(radius))"
   ]
  },
  {
   "cell_type": "markdown",
   "metadata": {},
   "source": [
    "\n",
    "\n",
    "\n",
    "# 3\n",
    "Write a Python program that accepts an integer (n) and computes the value of n+nn+nnn.\n",
    "Sample value of n is 5\n",
    "Expected Result : 615"
   ]
  },
  {
   "cell_type": "code",
   "execution_count": 2,
   "metadata": {},
   "outputs": [
    {
     "name": "stdout",
     "output_type": "stream",
     "text": [
      "Enter Any Positive Number: 5\n",
      "615\n"
     ]
    }
   ],
   "source": [
    "n = int(input('Enter Any Positive Number: '))\n",
    "n1 = int('{}'.format(n))\n",
    "n2 = int('{}{}'.format(n,n))\n",
    "n3 = int('{}{}{}'.format(n,n,n))\n",
    "ns = n1 + n2 + n3\n",
    "print(ns)"
   ]
  },
  {
   "cell_type": "markdown",
   "metadata": {},
   "source": [
    "\n",
    "\n",
    "\n",
    "# 4 \n",
    "A company decided to deduct pf of 12% of salary if year of service is less than 5 year and 24% employee if his/her year of service is more than 5 years.\n",
    "Ask user for their salary and year of service and print the net in-hand salary after pf deduction."
   ]
  },
  {
   "cell_type": "code",
   "execution_count": 16,
   "metadata": {},
   "outputs": [
    {
     "name": "stdout",
     "output_type": "stream",
     "text": [
      "Your Salary? :500000\n",
      "Year of Service? :6\n",
      "In Hand Salary:  380000.0\n"
     ]
    }
   ],
   "source": [
    "salary = float(input('Your Salary? :'))\n",
    "service_year = float(input('Year of Service? :'))\n",
    "if service_year < 5:\n",
    "    deduct = (12/100)*salary\n",
    "    print('In Hand Salary: ',(salary - deduct))\n",
    "else:\n",
    "    deduct = (24/100)*salary\n",
    "    print('In Hand Salary: ',(salary - deduct))\n",
    "    "
   ]
  },
  {
   "cell_type": "markdown",
   "metadata": {},
   "source": [
    "\n",
    "\n",
    "\n",
    "# 5\n",
    " A school has following rules for grading system:\n",
    "    a. Below 40 - F\n",
    "    b. 40 to 50 - C\n",
    "    c. 50 to 60 - C+\n",
    "    d. 60 to 70 - B\n",
    "    e. 70 to 80 - B+\n",
    "    f. 80 to 90 - A\n",
    "    g. Above 90 - A+\n",
    "Ask user to enter marks for their 5 main subject and print the corresponding grade and overall grade for average of marks."
   ]
  },
  {
   "cell_type": "code",
   "execution_count": 16,
   "metadata": {},
   "outputs": [
    {
     "name": "stdout",
     "output_type": "stream",
     "text": [
      "Enter Subject 1 Mark: 34\n",
      "Enter Subject 2 Mark: 35\n",
      "Enter Subject 3 Mark: 40\n",
      "Enter Subject 4 Mark: 37\n",
      "Enter Subject 5 Mark: 38\n",
      "F\n"
     ]
    }
   ],
   "source": [
    "sub1 = int(input('Enter Subject 1 Mark: '))\n",
    "sub2 = int(input('Enter Subject 2 Mark: '))\n",
    "sub3 = int(input('Enter Subject 3 Mark: '))\n",
    "sub4 = int(input('Enter Subject 4 Mark: '))\n",
    "sub5 = int(input('Enter Subject 5 Mark: '))\n",
    "\n",
    "average = (sub1 + sub2 + sub3 + sub4 + sub5)/5\n",
    "\n",
    "if average < 40:\n",
    "    print('F')\n",
    "elif average < 40 or average <= 50:\n",
    "    print('C')\n",
    "elif average < 50 or average <= 60:\n",
    "    print('C+')\n",
    "elif average < 60 or average <= 70:\n",
    "    print('B')\n",
    "elif average < 70 or average <= 80:\n",
    "    print('B+')\n",
    "elif average < 80 or average <= 90:\n",
    "    print('A')\n",
    "else:\n",
    "    print('A+')\n"
   ]
  },
  {
   "cell_type": "markdown",
   "metadata": {},
   "source": [
    "\n",
    "\n",
    "\n",
    "# 6 \n",
    "A student will not be allowed to sit in exam if his/her attendence is less than 75%.\n",
    "    Take following input from user\n",
    "    Number of classes held\n",
    "    Number of classes attended.\n",
    "    And print\n",
    "    percentage of class attended\n",
    "    Is student is allowed to sit in exam or not."
   ]
  },
  {
   "cell_type": "code",
   "execution_count": 33,
   "metadata": {},
   "outputs": [
    {
     "name": "stdout",
     "output_type": "stream",
     "text": [
      "Total Classes: 30\n",
      "How many classes you attained?: 12\n",
      "You've 40 and you are not eligible to write exam\n"
     ]
    }
   ],
   "source": [
    "classes = int(input('Total Classes: '))\n",
    "classes_attained = int(input('How many classes you attained?: ')) \n",
    "\n",
    "attaindance_percentage = int((classes_attained / classes) * 100)\n",
    "\n",
    "if attaindance_percentage < 75:\n",
    "    print(\"You've {} and you are not eligible to write exam\".format(attaindance_percentage))\n",
    "else:\n",
    "    print(\"You've {} % and you're eligible to write exam\".format(attaindance_percentage))"
   ]
  },
  {
   "cell_type": "markdown",
   "metadata": {},
   "source": [
    "\n",
    "\n",
    "\n",
    "# 7\n",
    "Modify the above question to allow student to sit if he/she has medical cause reduce attendance criteria to 60%. Ask user if he/she has medical cause or not ( 'Y' or 'N' ) and print accordingly."
   ]
  },
  {
   "cell_type": "code",
   "execution_count": 37,
   "metadata": {},
   "outputs": [
    {
     "name": "stdout",
     "output_type": "stream",
     "text": [
      "Total Classes: 30\n",
      "How many classes you attained?: 16\n",
      "Medical Problem?: N\n",
      "You are not allowed\n"
     ]
    }
   ],
   "source": [
    "classes = int(input('Total Classes: '))\n",
    "classes_attained = int(input('How many classes you attained?: ')) \n",
    "\n",
    "attaindance_percentage = int((classes_attained / classes) * 100)\n",
    "\n",
    "if attaindance_percentage < 75:\n",
    "    querry = str(input('Medical Problem?: '))\n",
    "    if querry == 'Y' or querry == 'y':\n",
    "        if attaindance_percentage < 60:\n",
    "            print('You are allowed this time because of Medical Conditions')\n",
    "    else: \n",
    "        print('You are not allowed')\n",
    "else:\n",
    "    print(\"You've {} % and you're eligible to write exam\".format(attaindance_percentage))"
   ]
  },
  {
   "cell_type": "markdown",
   "metadata": {},
   "source": [
    "\n",
    "\n",
    "\n",
    "\n",
    "# 8\n",
    "Write a program to check if a year is leap year or not.\n",
    "If a year is divisible by 4 then it is leap year but if the year is century year like 2000, 1900, 2100\n",
    "then it must be divisible by 400."
   ]
  },
  {
   "cell_type": "code",
   "execution_count": 42,
   "metadata": {},
   "outputs": [
    {
     "name": "stdout",
     "output_type": "stream",
     "text": [
      "Enter Year to find, Leap Year or Not: 2018\n",
      "Not a leap Year\n"
     ]
    }
   ],
   "source": [
    "year  = int(input('Enter Year to find, Leap Year or Not: '))\n",
    "\n",
    "if (year%4 == 0) or year is [2000,2100,2200,2300]:\n",
    "    \n",
    "    print('It is  a Leap year.')\n",
    "else:\n",
    "    print('Not a leap Year')"
   ]
  },
  {
   "cell_type": "markdown",
   "metadata": {},
   "source": [
    "\n",
    "\n",
    "\n",
    "\n",
    "# 9\n",
    "Ask user to enter age, gender ( M or F ), marital status ( Y or N ) and then using following rules print their place of service.\n",
    "\n",
    "if employee is female, then she will work only in urban areas.\n",
    "\n",
    "if employee is a male and age is in between 20 to 30 and not married then he may work in anywhere.\n",
    "\n",
    "if employee is a female and age is in between 20 to 30 and not married then she may work in urban areas.\n",
    "\n",
    "if employee is male and age is in between 20 t0 30 and married then he will work in nearby Hometown.\n",
    "\n",
    "if employee is female and age is in between 20 t0 30 and married then she will work in her husband's city.\n",
    "\n",
    "And any other input of age should print \"ERROR\"."
   ]
  },
  {
   "cell_type": "code",
   "execution_count": 4,
   "metadata": {},
   "outputs": [
    {
     "name": "stdout",
     "output_type": "stream",
     "text": [
      "Enter Your Age: 23\n",
      "Enter Your Gender(M or F)H\n",
      "Enter Marital Status (Y or N)K\n",
      "Error\n"
     ]
    }
   ],
   "source": [
    "age = int(input('Enter Your Age: '))\n",
    "gender = str(input('Enter Your Gender(M or F)'))\n",
    "married = str(input('Enter Marital Status (Y or N)'))\n",
    "\n",
    "\n",
    "if gender == 'M':\n",
    "    if (age >= 20 or age <= 30) and (married == 'N'):\n",
    "        print('He may work in anywhere.')\n",
    "    elif (age >= 20 or age <= 30) and (married == 'Y'):\n",
    "        print('He will work in nearby Hometown.')\n",
    "    else:\n",
    "        print('Error')\n",
    "    \n",
    "elif gender == 'F':\n",
    "    \n",
    "    if (age >= 20 or age <= 30) and (married == 'N'):\n",
    "        print('she may work in urban areas.')\n",
    "    elif (age >= 20 or age <= 30) and (married == 'Y'):\n",
    "        print(\"she will work in her husband's city.\")\n",
    "    else:\n",
    "        print('Error')\n",
    "        \n",
    "else:\n",
    "    print('Error')\n",
    "    \n",
    "    \n"
   ]
  },
  {
   "cell_type": "markdown",
   "metadata": {},
   "source": [
    "\n",
    "\n",
    "\n",
    "\n",
    "# 10\n",
    "A 4 digit number is entered through keyboard. Write a program to print a new number with digits reversed as of orignal one. E.g.-\n",
    "INPUT : 1234        OUTPUT : 4321\n",
    "INPUT : 5982        OUTPUT : 2895\n",
    "NOTE:- Do not use builtin functions e.g. sort(), reverse() and loop try to solve it by if-else"
   ]
  },
  {
   "cell_type": "code",
   "execution_count": 14,
   "metadata": {},
   "outputs": [
    {
     "name": "stdout",
     "output_type": "stream",
     "text": [
      "Enter 4 digit Number: 1234\n",
      "Reverse Number:  4321\n"
     ]
    }
   ],
   "source": [
    "n = int(input('Enter 4 digit Number: '))\n",
    "\n",
    "reverse = 0\n",
    "while n > 0:\n",
    "    digit = n % 10                    #getting last digit number \n",
    "    reverse = reverse * 10 + digit    #storing last digit to reverse\n",
    "    n = int(n/10)                     #converting to integer\n",
    "print('Reverse Number: ',reverse)\n"
   ]
  },
  {
   "cell_type": "markdown",
   "metadata": {},
   "source": [
    "\n",
    "\n",
    "\n",
    "# 11\n",
    "Write a program to find sum of digits of given number by user answer should be of single digit.\n",
    "    \n",
    "Example: input: 25643\n",
    "\n",
    "sum of digits of 2+5+6+4+3 = 20\n",
    "\n",
    "again find sum of digits of 20 and final answer would be 2+0 = 2\n",
    "    \n",
    "    \n",
    "    \n",
    "    "
   ]
  },
  {
   "cell_type": "code",
   "execution_count": null,
   "metadata": {},
   "outputs": [],
   "source": [
    "num = int(input('Enter Number: '))\n",
    "sum = 0\n",
    "while (n > 0 or sum > 9):\n",
    "    if (n == 0):\n",
    "        n = sum\n",
    "        \n",
    "    \n",
    "    \n"
   ]
  },
  {
   "cell_type": "markdown",
   "metadata": {},
   "source": [
    "\n",
    "\n",
    "\n",
    "# 12\n",
    "Write a Python program to find those numbers which are divisible by 7 and multiple of 5, between 1500 and 2700\n",
    "(both included)."
   ]
  },
  {
   "cell_type": "code",
   "execution_count": 3,
   "metadata": {},
   "outputs": [
    {
     "name": "stdout",
     "output_type": "stream",
     "text": [
      "1505,1540,1575,1610,1645,1680,1715,1750,1785,1820,1855,1890,1925,1960,1995,2030,2065,2100,2135,2170,2205,2240,2275,2310,2345,2380,2415,2450,2485,2520,2555,2590,2625,2660,2695,"
     ]
    }
   ],
   "source": [
    "for n in range(1500, 2701):\n",
    "    if (n % 7 == 0) and (n % 5 == 0):\n",
    "        print(n, end = ',')\n"
   ]
  },
  {
   "cell_type": "markdown",
   "metadata": {},
   "source": [
    "\n",
    "\n",
    "\n",
    "# 13\n",
    "A shop will give discount of 10% max upto 100rs if the cost of purchased quantity is more than 1000.\n",
    "  Ask user for quantity\n",
    "  Suppose, one unit will cost 100rs.\n",
    "  Judge and print total cost for user."
   ]
  },
  {
   "cell_type": "code",
   "execution_count": 15,
   "metadata": {},
   "outputs": [
    {
     "name": "stdout",
     "output_type": "stream",
     "text": [
      "Enter Number Of Quantities, you want to purchase: 14\n",
      "Net Amount:  1300\n"
     ]
    }
   ],
   "source": [
    "quantity = int(input('Enter Number Of Quantities, you want to purchase: '))\n",
    "amount = 100 * quantity\n",
    "\n",
    "if quantity <= 10:\n",
    "    discount = amount * 0.10\n",
    "    print('Net Amount: ',(amount - discount))\n",
    "else:\n",
    "    discount = 100\n",
    "    print('Net Amount: ',(amount - discount))\n",
    "    \n",
    "\n"
   ]
  },
  {
   "cell_type": "markdown",
   "metadata": {},
   "source": [
    "\n",
    "\n",
    "\n",
    "# 14\n",
    "Write a Python program to calculate number of days between two dates."
   ]
  },
  {
   "cell_type": "code",
   "execution_count": null,
   "metadata": {},
   "outputs": [],
   "source": [
    "\n"
   ]
  }
 ],
 "metadata": {
  "kernelspec": {
   "display_name": "Python 3",
   "language": "python",
   "name": "python3"
  },
  "language_info": {
   "codemirror_mode": {
    "name": "ipython",
    "version": 3
   },
   "file_extension": ".py",
   "mimetype": "text/x-python",
   "name": "python",
   "nbconvert_exporter": "python",
   "pygments_lexer": "ipython3",
   "version": "3.7.4"
  }
 },
 "nbformat": 4,
 "nbformat_minor": 2
}
