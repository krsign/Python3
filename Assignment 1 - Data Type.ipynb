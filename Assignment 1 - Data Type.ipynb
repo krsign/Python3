{
 "cells": [
  {
   "cell_type": "markdown",
   "metadata": {},
   "source": [
    "# 1.\n",
    "    In the pre-smartphone era,each number key is assigned a subset of the alphabet {a,b,…,z}.\n",
    "    - 2 is assigned {a,b,c}, \n",
    "    - 3 is assigned {d,e,f} \n",
    "    - 4 is assigned {g,h,i} \n",
    "    - 5 is assigned {j,k,l}\n",
    "    - 6 is assigned {m,n,o} \n",
    "    - 7 is assigned {p,q,r,s}\n",
    "    - 8 is assigned {t,u,v} \n",
    "    - 9 is assigned {w,x,y,z}\n",
    "\n",
    "    Write a function numbers_to_chars() to find the characters generated using key 9999335533. \n",
    "    Output should be \"zeke\"\n",
    "\n",
    "    Function Name : numbers_to_chars() \n",
    "\n",
    "    Input : Integer number sequence Output : Str\n",
    "\n",
    "    Test Cases\n",
    "\n",
    "    numbers_to_chars(766655533) - 'pole'\n",
    "\n",
    "    numbers_to_chars(55566677778) - 'lost'\n",
    "\n",
    "    numbers_to_chars(866676665556664999) - 'topology'\n"
   ]
  },
  {
   "cell_type": "code",
   "execution_count": 3,
   "metadata": {},
   "outputs": [
    {
     "name": "stdout",
     "output_type": "stream",
     "text": [
      "Enter Number: 866676665556664999\n",
      "topology\n"
     ]
    }
   ],
   "source": [
    "import re\n",
    "def numbers_to_char(nums,num):\n",
    "    \n",
    "    res=\"\"\n",
    "    for i in range(len(num)):\n",
    "        n=nums.index(str(num[i]))\n",
    "        res=res+chr(ord('a')+n)        \n",
    "    return res\n",
    "\n",
    "\n",
    "nums = [\"2\", \"22\", \"222\", \n",
    "       \"3\", \"33\", \"333\", \n",
    "       \"4\", \"44\", \"444\", \n",
    "       \"5\", \"55\", \"555\", \n",
    "       \"6\", \"66\", \"666\", \n",
    "       \"7\", \"77\", \"777\", \"7777\", \n",
    "       \"8\", \"88\", \"888\", \n",
    "       \"9\", \"99\", \"999\", \"9999\" ] \n",
    "\n",
    "n = input('Enter Number: ')\n",
    "\n",
    "num=[i.group(0) for i in re.finditer(r\"(\\d)\\1*\", n)]\n",
    "\n",
    "print(numbers_to_char(nums,num))"
   ]
  },
  {
   "cell_type": "code",
   "execution_count": 8,
   "metadata": {},
   "outputs": [
    {
     "name": "stdout",
     "output_type": "stream",
     "text": [
      "Travel Sequence : Bombay --> Delhi , Delhi --> Goa , Goa --> Chennai , Chennai --> Banglore , \n"
     ]
    }
   ],
   "source": [
    "def travel_sequence(tofrom):\n",
    "    travelSequence = {}\n",
    "    to = set(tofrom.keys())\n",
    "    _from = set(tofrom.values())\n",
    "    \n",
    "    source = list(to.difference(_from))[0]\n",
    "    \n",
    "    for count in range(len(tofrom)):\n",
    "        \n",
    "        travelSequence[source] = tofrom[source]\n",
    "        source = tofrom[source]\n",
    "        \n",
    "    l = ''\n",
    "    \n",
    "    for key  in travelSequence:\n",
    "        l = l + key +\" --> \" + travelSequence[key] + \" , \"\n",
    "    return l\n",
    "\n",
    "tofrom = {\"Chennai\":\"Banglore\",\"Bombay\":\"Delhi\",\"Goa\":\"Chennai\",\"Delhi\":\"Goa\"}\n",
    "# tofrom = {\"A\":\"C\",\"C\":\"D\",\"E\":\"G\",\"D\":\"E\",\"G\":\"F\"}\n",
    "# tofrom = {\"X\":\"Z\",\"Z\":\"U\",\"A\":\"B\",\"B\":\"X\"}\n",
    "print(\"Travel Sequence :\",travel_sequence(tofrom))"
   ]
  },
  {
   "cell_type": "markdown",
   "metadata": {},
   "source": [
    "# 3.\n",
    "Given a dictionary that associates the names of states with a list of the names of cities that appear in it,\n",
    "write a program that creates a new dictionary that associates the name of a city with the list of states that it appears in.\n",
    "\n",
    "As an example, if the first dictionary is\n",
    "Input : states = {'New Hampshire': ['Concord', 'Hanover'],\n",
    "'Massachusetts': ['Boston', 'Concord', 'Springfield'],\n",
    "'Illinois': ['Chicago', 'Springfield', 'Peoria'] }\n",
    "\n",
    "Output:\n",
    "cities = {'Hanover': ['New Hampshire'],\n",
    "'Chicago': ['Illinois'],'Boston': ['Massachusetts'],\n",
    "'Peoria': ['Illinois'],'Concord': ['New Hampshire','Massachusetts'],\n",
    "'Springfield': ['Massachusetts', 'Illinois'] }\n",
    "\n",
    "Function Name : city_with_states \n",
    "\n",
    "Input : dict Output : dict\n",
    "\n",
    "Test Cases\n",
    "\n",
    "city_with_states({'New Hampshire': ['Concord', 'Hanover'],'Massachusetts': ['Boston', 'Concord', 'Springfield'],'Illinois': ['Chicago', 'Springfield', 'Peoria'] }) - {'Hanover': ['New Hampshire'],'Chicago': ['Illinois'],'Boston': ['Massachusetts'],'Peoria': ['Illinois'],'Concord': ['New Hampshire','Massachusetts'],'Springfield': ['Massachusetts', 'Illinois'] }\n",
    "\n",
    "city_with_states({'A':['AA','AB'], 'B':['BB','BC], 'C':['CC','CD,'BB'] }) - { 'AA':['A'], 'AB':['A'], 'BB':['B','C'], 'BC':['B'], 'CC':['C'], 'CD':['C'] }\n"
   ]
  },
  {
   "cell_type": "code",
   "execution_count": 11,
   "metadata": {},
   "outputs": [
    {
     "name": "stdout",
     "output_type": "stream",
     "text": [
      "Output : {'Concord': ['New Hampshire', 'Massachusetts'], 'Hanover': ['New Hampshire'], 'Boston': ['Massachusetts'], 'Springfield': ['Massachusetts', 'Illinois'], 'Chicago': ['Illinois'], 'Peoria': ['Illinois']}\n"
     ]
    }
   ],
   "source": [
    "def city_with_states(states_cities):\n",
    "    dictcity = {}\n",
    "    \n",
    "    for state,cities in states_cities.items():\n",
    "        for city in cities:\n",
    "            if city not in dictcity:\n",
    "                dictcity[city] = [state]\n",
    "            else:\n",
    "                dictcity[city].append(state)\n",
    "    return dictcity\n",
    "\n",
    "states_cities = {'New Hampshire': ['Concord', 'Hanover'],\n",
    "                 'Massachusetts': ['Boston', 'Concord', 'Springfield'],\n",
    "                 'Illinois': ['Chicago', 'Springfield', 'Peoria'] }\n",
    "\n",
    "\n",
    "print(\"Output :\",city_with_states(states_cities))\n"
   ]
  },
  {
   "cell_type": "markdown",
   "metadata": {},
   "source": [
    "# 4.\n",
    "How do you check if a given String contains valid parentheses? Given a string containing just the characters '(', ')', '{', '}', '[' and ']', write a program in python to check if the input string is valid. The brackets must close in the correct order, \"()\" and \"()[]{}\" are all valid but \"(]\" and \"([)]\" are not.\n",
    "\n",
    "Function Name : check_parentheses Input : str Output : True/False\n",
    "\n",
    "Test Cases\n",
    "check_parentheses(\"()[]{}\") - True\n",
    "check_parentheses(\"()}[]{\") - False"
   ]
  },
  {
   "cell_type": "code",
   "execution_count": 1,
   "metadata": {},
   "outputs": [
    {
     "name": "stdout",
     "output_type": "stream",
     "text": [
      "True\n",
      "False\n"
     ]
    }
   ],
   "source": [
    "def check_parentheses(string):\n",
    "    open_paren = [\"[\",\"{\",\"(\"]\n",
    "    close_paren = [\"]\",\"}\",\")\"]\n",
    "    \n",
    "    stack= []\n",
    "    \n",
    "    for i in string:\n",
    "        if i in open_paren:\n",
    "            stack.append(i)\n",
    "        elif i in close_paren:\n",
    "            pos = close_paren.index(i)\n",
    "            if ((len(stack) > 0) and (open_paren[pos] == stack[len(stack)-1])):\n",
    "                stack.pop()\n",
    "            else:\n",
    "                return False\n",
    "    if len(stack) == 0:\n",
    "        return True\n",
    "\n",
    "print(check_parentheses(\"()[]{}\"))\n",
    "print(check_parentheses(\"()}[]{\"))"
   ]
  },
  {
   "cell_type": "markdown",
   "metadata": {},
   "source": [
    "# 5\n",
    "Write a program to convert Integer to Roman String. For example, if a given integer is 5 then your program should print \"V\".\n",
    "\n",
    "Function Name : int_roman Input : int Output : str\n",
    "\n",
    "Test Cases\n",
    "\n",
    "int_roman(1001) - MI\n",
    "\n",
    "int_roman(1100) - MC\n",
    "\n",
    "int_roman(150) - CL"
   ]
  },
  {
   "cell_type": "code",
   "execution_count": 2,
   "metadata": {},
   "outputs": [
    {
     "name": "stdout",
     "output_type": "stream",
     "text": [
      "MI\n",
      "MC\n",
      "CL\n"
     ]
    }
   ],
   "source": [
    "def int_roman(num):\n",
    "    \n",
    "    l1 = [1000,900,500,400,100,90,50,40,10,9,5,4,1]\n",
    "    l2 = ['M','CM','D','CD','C','XC','L','XL','X','IX','V','IV','I']\n",
    "    number_roman = [i for i in zip(l1,l2 )]\n",
    "\n",
    "    \n",
    "    result = []\n",
    "    for integer , numeral in number_roman:\n",
    "        count = num // integer\n",
    "        result.append(numeral * count)\n",
    "        num = num - (integer * count)\n",
    "    \n",
    "    return ''.join(result)\n",
    "\n",
    "print(int_roman(1001))\n",
    "print(int_roman(1100))\n",
    "print(int_roman(150))"
   ]
  },
  {
   "cell_type": "markdown",
   "metadata": {},
   "source": [
    "# 6\n",
    "Write a program utility that counts the number of lines of actual python code in a. For the purpose of this exercise, a line is counted if it contains something other than whitespace or text in a comment.\n",
    "remember that comment start sequences that appear inside python strings should be ignored.\n",
    "Function Name : count_code_lines Input : str Output : int\n",
    "\n",
    "\n",
    "\n",
    "# Test Cases:\n",
    "    \n",
    "# 1. Input : \n",
    "\"\"\"\n",
    "#Linear search implementation\n",
    "#Takes list and a key as input and returns True or False as answer\n",
    "def linear_saerch(l,key):\n",
    "    for value in l:\n",
    "        if key == value:\n",
    "            return True #Return True is key exist\n",
    "    else:\n",
    "        return False #Return False if key does not exist\n",
    "\n",
    "\n",
    "l = [100,200,300,400,500,600]\n",
    "key = 500\n",
    "result = linear_search(l,key)\n",
    "print(result)\n",
    "\"\"\"\n",
    "\n",
    "# Expected Output: 10\n",
    "    \n",
    "# 2. Input : \n",
    "        \"\"\"\n",
    "#Linear search implementation\n",
    "#Takes list and a key as input and returns True or False as answer\n",
    "\"\"\"Time complexity is O(n)\"\"\"\n",
    "\n",
    "@classmethod\n",
    "def linear_search(l,key):\n",
    "    for value in l:\n",
    "        if key == value:\n",
    "            return True #Return True is key exist\n",
    "    else:\n",
    "        return False #Return False if key does not exist\n",
    "\n",
    "\n",
    "l = [100,200,300,400,500,600]\n",
    "key = 500\n",
    "result = linear_search(l,key)\n",
    "\n",
    "\n",
    "print(result)\n",
    "\"\"\"\n",
    "\n",
    "# Expected Output: 12"
   ]
  },
  {
   "cell_type": "code",
   "execution_count": 14,
   "metadata": {},
   "outputs": [
    {
     "name": "stdout",
     "output_type": "stream",
     "text": [
      "Lines : 12\n"
     ]
    }
   ],
   "source": [
    "import re\n",
    "def count_code_lines(code):\n",
    "\n",
    "    lines = code.split(\"\\n\")\n",
    "    not_comment = re.compile(\"^[^#]\")\n",
    "    line_count = 0\n",
    "    for line in lines:\n",
    "        if line != '' and re.search(not_comment,line.strip()):\n",
    "            line_count += 1\n",
    "    return line_count\n",
    "\n",
    "input_code = \"\"\"\n",
    "#Linear search implementation\n",
    "#Takes list and a key as input and returns True or False as answer\n",
    "'''Time complexity is O(n)'''\n",
    "\n",
    "@classmethod\n",
    "def linear_search(l,key):\n",
    "    #function definition\n",
    "    for value in l:\n",
    "        if key == value:\n",
    "            return True #Return True is key exist\n",
    "    else:\n",
    "        return False #Return False if key does not exist\n",
    "        \n",
    "        \n",
    "        \n",
    "        \n",
    "\n",
    "\n",
    "l = [100,200,300,400,500,600]\n",
    "key = 500\n",
    "result = linear_search(l,key)\n",
    "\n",
    "\n",
    "print(result)\n",
    "\"\"\"\n",
    "print(\"Lines :\",count_code_lines(input_code))"
   ]
  },
  {
   "cell_type": "markdown",
   "metadata": {},
   "source": [
    "# 7\n",
    "Write a program to check the strength of a supplied password\n",
    "The length of the password must be at least 8 characters in length The password must contain at least 1 capital letter The password must contain at least 1 digit The password must contain at least 1 special character and allowed special characters are (!,@,#,$,&)\n",
    "We need to provide feedback to the user about the strength of their password\n",
    "Provide the user with a list of reasons why their password is 'weak'\n",
    "Function Name : check_password_strength Input : str Output : tuple (str,list) eg (\"Weak\",[\"The password must contain at least 1 capital letter\"])\n",
    "Test Cases:\n",
    "1. Input : \"Abcd@1234\"\n",
    "\n",
    "   Expected Output: (\"Valid\",[])\n",
    "\n",
    "\n",
    "2. Input : \"Abc@1\"\n",
    "\n",
    "   Expected Output: (\"InValid\",[\"The length of the password must be at least 8 characters in length\"\n",
    "\n",
    "3. Input : \"abc12\"\n",
    "\n",
    "   Expected Output: (\"InValid\",[\"The length of the password must be at least 8 characters in length\",\"The password must contain at least 1 special character and allowed special characters are (!,@,#,$,&)\",\"The password must contain at least 1 capital letter\"])\n",
    "\n",
    "\n",
    "4. Input : \"aBcD**#&\"\n",
    "\n",
    "   Expected Output: (\"InValid\",[\"The password must contain at least 1 special character and allowed special characters are (!,@,#,$,&)\",\"The password must contain at least 1 digit\"])"
   ]
  },
  {
   "cell_type": "code",
   "execution_count": 18,
   "metadata": {},
   "outputs": [
    {
     "name": "stdout",
     "output_type": "stream",
     "text": [
      "enter password  Abcd@1234\n",
      "  (\"Valid\",[]) \n"
     ]
    }
   ],
   "source": [
    "import re\n",
    "def check_password_strength (password):\n",
    "    sc=[\"!\",\"@\",\"#\",\"$\",\"&\"]\n",
    "    if len(password)>=8 and  any(a.isupper()for a in password) and any(a in sc for a in password) and any(a.isdigit()for a in password):\n",
    "        print(\"\"\"  (\"Valid\",[]) \"\"\")\n",
    "    elif len(password)<8 :\n",
    "        if not any(a.isupper()for a in password ):\n",
    "            print(\"\"\" (\"InValid\",[\"The length of the password must be at least 8 characters in length\",\"The password must contain at least 1 special character and allowed special characters are (!,@,#,$,&)\",\"The password must contain at least 1 capital letter\"])\"\"\")\n",
    "        else:\n",
    "            print(\"\"\"  (\"InValid\",[\"The length of the password must be at least 8 characters in length\") \"\"\")\n",
    "    elif len(password)>=8 and  not any(a.isupper()for a in password ) and any(a in sc for a in password):\n",
    "        print(\"\"\"  (\"Weak\",[\"The password must contain at least 1 capital letter\"]) \"\"\")\n",
    "    elif not any(a.isdigit() for a in password):\n",
    "        print(\"\"\"  (\"InValid\",[\"The password must contain at least 1 special character and allowed special characters are (!,@,#,$,&)\",\"The password must contain at least 1 digit\"]) \"\"\")\n",
    "    elif not any (a in Sc for a in passwd):\n",
    "            print(\"\"\"  (\"InValid\",[\"The password must contain at least 1 special character and allowed special characters are (!,@,#,$,&)\",\"The password must contain at least 1 digit\"]) \"\"\")\n",
    "        \n",
    "password=input(\"enter password  \")\n",
    "check_password_strength(password)"
   ]
  },
  {
   "cell_type": "markdown",
   "metadata": {},
   "source": [
    "# 8 \n",
    "Check if given sentence is syntactically correct or not\n",
    "A simple sentence if syntactically correct if it fulfills given rules. The following are given rules.\n",
    "Sentence must start with a Uppercase character (e.g. Noun/ I/ We/ He etc.)\n",
    "There must be spaces between words.\n",
    "Then the sentence must end with a full stop(.).\n",
    "Two continuous spaces are not allowed.\n",
    "Two continuous uppercase characters are not allowed.\n",
    "However the sentence can end after an uppercase character.\n",
    "Function Name : check_sentence Input : str Output : tuple (True/False,list) eg (False,[\"There must be spaces between words.\"])\n",
    "Test Cases:\n",
    "1. Input : \"An important part of my life has been the people who stood by me.\"\n",
    "\n",
    "   Output : (True,[])\n",
    "\n",
    "2. Input : \"AN important part of my life has been the people who stood by me\"\n",
    "\n",
    "   Output : (False,[\"the sentence must end with a full stop(.)\",\"Two continuous uppercase characters are not allowed.\"])\n",
    "\n",
    "3. Input : \"An important  part of my life has been the people who stood by me  .\"\n",
    "\n",
    "   Output : (False,[\"Two continuous spaces are not allowed.\"])"
   ]
  },
  {
   "cell_type": "code",
   "execution_count": 19,
   "metadata": {},
   "outputs": [
    {
     "name": "stdout",
     "output_type": "stream",
     "text": [
      "(False, ['Sentence must end with a full-stop.', 'Continuous uppercase characters are not allowed.'])\n"
     ]
    }
   ],
   "source": [
    "import re\n",
    "def check_sentence(string):\n",
    "    reasons = []\n",
    "\n",
    "    if not string[0].isupper():\n",
    "        reasons.append(\"Sentence must start with an Uppercase character.\")\n",
    "\n",
    "    if ' ' not in string:\n",
    "        reasons.append(\"Spaces must be present between words in a sentence.\")\n",
    "\n",
    "    if '.' != string[-1] or re.search(\"\\..+\",string):\n",
    "        reasons.append(\"Sentence must end with a full-stop.\")\n",
    "\n",
    "    if '  ' in string:\n",
    "        reasons.append(\"Continuous spaces are not allowed.\")\n",
    "        \n",
    "    if re.search(\"[A-Z][A-Z]\",string):\n",
    "        reasons.append(\"Continuous uppercase characters are not allowed.\")    \n",
    "\n",
    "    if reasons:\n",
    "        return (False, reasons)\n",
    "    else:\n",
    "        return (True, [\"Your sentence is syntactically correct!\"])\n",
    "\n",
    "\n",
    "results = check_sentence(\"AN important part of my life has been the people who stood by me\") \n",
    "print(results)"
   ]
  },
  {
   "cell_type": "markdown",
   "metadata": {},
   "source": [
    "# 9\n",
    "Given an array arr[] of integers and an integer K, the task is to find the greatest contiguous sub-array of size K.\n",
    "Sub-array X is said to be greater than sub-array Y if the first non-matching element in both the sub-arrays has a greater value in X than in Y.\n",
    "For example : Input: arr[] = {1, 4, 3, 2, 5}, K = 4 Output: 4 3 2 5 Two subarrays are {1, 4, 3, 2} and {4, 3, 2, 5}. First non-matching element from array1 and array 2 : 1 and 4 as 4 is greater Hence, the greater one is {4, 3, 2, 5}\n",
    "Function Name : greatest_sub_array() Input : list Output : list\n",
    "Test cases:\n",
    "1. Input : arr = [1,4,3,2,5] k = 3\n",
    "\n",
    "   Expected output : [4,3,2]\n",
    "\n",
    "2. Input : arr = [1,4,5,5,3,1,5] k = 4\n",
    "\n",
    "   Expected output : [5,5,3,1]\n",
    "\n",
    "3. Input : arr = [1,5,5,5,4,4,3,3,2] k = 3\n",
    "\n",
    "   Expected output : [5,5,5]\n",
    "\n",
    "4. Input : arr = [1,5,5,5,4,4,3,3,2] k = 2\n",
    "\n",
    "   Expected output : [5,5]"
   ]
  },
  {
   "cell_type": "code",
   "execution_count": 3,
   "metadata": {},
   "outputs": [
    {
     "name": "stdout",
     "output_type": "stream",
     "text": [
      "Sublist : 3\n",
      "5\n",
      "[5, 5, 3]\n"
     ]
    }
   ],
   "source": [
    "def greatest_sub_array(l,k):\n",
    "    n=len(l)\n",
    "    m=(n-k)+1\n",
    "    max_n=max(l[0:m])\n",
    "    print(max_n)\n",
    "    i=l.index(max_n)\n",
    "    print(l[i:i+k])\n",
    "    \n",
    "arr =  [1,4,5,5,3,1,5]\n",
    "k=int(input(\"Sublist : \"))\n",
    "greatest_sub_array(arr,k)"
   ]
  },
  {
   "cell_type": "markdown",
   "metadata": {},
   "source": [
    "# 10\n",
    "Given a list of N integers. The task is to eliminate the minimum number of elements such that in the resulting list the sum of any two adjacent values is even.\n",
    "Numbers = [1, 3, 5, 4, 2] Output = [1, 3, 5] Total elements removed 2 Elements to be removed [4,2]\n",
    "Function Name : adj_sum_even() Input : list Output : tuple(int,list)\n",
    "Test Cases:\n",
    "1. Input : [1,4,3,6,8,5,7]\n",
    "\n",
    "   Expected Output: (3,[1,3,5,7])\n",
    "\n",
    "\n",
    "2. Input : [1,4,2,3,6,5]\n",
    "\n",
    "   Expected Output: (3,[1,3,5]) or (3,[4,2,6])\n",
    "\n",
    "\n",
    "3. Input : [1,2,2,4,3]\n",
    "\n",
    "   Expected Output: (2,[2,2,4]) "
   ]
  },
  {
   "cell_type": "code",
   "execution_count": 23,
   "metadata": {},
   "outputs": [
    {
     "name": "stdout",
     "output_type": "stream",
     "text": [
      "7 11\n",
      "(7, [1, 3, 5, 7, 3, 3, 5, 9, 3, 9, 3])\n"
     ]
    }
   ],
   "source": [
    "def adj_sum_even(l):\n",
    "    odd=0\n",
    "    even=0\n",
    "    for i in range(len(l)):\n",
    "        if l[i]%2==0:\n",
    "            even=even+1\n",
    "        else:\n",
    "            odd=odd+1\n",
    "    print(even,odd)\n",
    "    if even>odd:\n",
    "        res=[i for i in l if i%2==0]\n",
    "        return (odd,res)\n",
    "    else:\n",
    "        res=[i for i in l if i%2!=0]\n",
    "        return (even,res)\n",
    "    \n",
    "  \n",
    "    \n",
    "l=[2,1,3,4,5,6,7,3,4,3,4,5,6,8,9,3,9,3]\n",
    "print(adj_sum_even(l))"
   ]
  }
 ],
 "metadata": {
  "kernelspec": {
   "display_name": "Python 3",
   "language": "python",
   "name": "python3"
  },
  "language_info": {
   "codemirror_mode": {
    "name": "ipython",
    "version": 3
   },
   "file_extension": ".py",
   "mimetype": "text/x-python",
   "name": "python",
   "nbconvert_exporter": "python",
   "pygments_lexer": "ipython3",
   "version": "3.7.4"
  }
 },
 "nbformat": 4,
 "nbformat_minor": 2
}
