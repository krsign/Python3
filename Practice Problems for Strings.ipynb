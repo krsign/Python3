{
 "cells": [
  {
   "cell_type": "markdown",
   "metadata": {},
   "source": [
    "# 1. \n",
    "Write a Python program to check if a string contains all letters of the alphabet."
   ]
  },
  {
   "cell_type": "code",
   "execution_count": 23,
   "metadata": {},
   "outputs": [
    {
     "name": "stdout",
     "output_type": "stream",
     "text": [
      "Enter string: pictureperfect\n",
      "Contains all alphabet?  True\n"
     ]
    }
   ],
   "source": [
    "s = str(input('Enter string: '))\n",
    "print('Contains all alphabet? ',s.isalpha())    "
   ]
  },
  {
   "cell_type": "markdown",
   "metadata": {},
   "source": [
    "# 2. \n",
    "Write a Python program to remove duplicate characters of a given string.\n"
   ]
  },
  {
   "cell_type": "code",
   "execution_count": 2,
   "metadata": {},
   "outputs": [
    {
     "name": "stdout",
     "output_type": "stream",
     "text": [
      "abcdef\n"
     ]
    }
   ],
   "source": [
    "s1 = 'aaaaabbbccccddddeeefffaaaaaaaaa'\n",
    "s2 = sorted(set(s1))\n",
    "s3 = ''.join(s2)\n",
    "\n",
    "print(s3)"
   ]
  },
  {
   "cell_type": "markdown",
   "metadata": {},
   "source": [
    "# 3. \n",
    "Write a Python program to get a string from a given string where all occurrences of its first char have been       changed to $, except the first char itself.\n",
    "\n",
    "Sample String : 'restart'\n",
    "\n",
    "Expected Result : 'resta$t'"
   ]
  },
  {
   "cell_type": "code",
   "execution_count": 3,
   "metadata": {},
   "outputs": [
    {
     "name": "stdout",
     "output_type": "stream",
     "text": [
      "resta$t\n"
     ]
    }
   ],
   "source": [
    "def change(s):\n",
    "    char = s[0]\n",
    "    \n",
    "    s = s.replace(char,'$')\n",
    "    s = char + s[1:]\n",
    "    return s\n",
    "   \n",
    "print(change('restart'))"
   ]
  },
  {
   "cell_type": "markdown",
   "metadata": {},
   "source": [
    "# 4. \n",
    "Write a Python program to get a single string from two given strings, separated by a space and swap the first two characters of each string.\n",
    "\n",
    "Sample String : 'abc', 'xyz'\n",
    "\n",
    "Expected Result : 'xyc abz'"
   ]
  },
  {
   "cell_type": "code",
   "execution_count": 34,
   "metadata": {},
   "outputs": [
    {
     "name": "stdout",
     "output_type": "stream",
     "text": [
      "xyc  abz\n"
     ]
    }
   ],
   "source": [
    "s1 = 'abc'\n",
    "s2 = 'xyz'\n",
    "\n",
    "s1change = s1[:2] + s2[2:]\n",
    "s2change = s2[:2] + s1[2:]\n",
    "\n",
    "print(s2change,'',s1change)"
   ]
  },
  {
   "cell_type": "markdown",
   "metadata": {},
   "source": [
    "# 5. \n",
    "Write a Python program to find the first appearance of the substring 'not' and 'poor' from a given string, if 'not'\n",
    "follows the 'poor', replace the whole 'not'...'poor' substring with 'good' else swap 'not' and 'poor'. Return the\n",
    "resulting string.\n",
    "\n",
    "Sample String : 'The lyrics is not that poor!'\n",
    "'The lyrics is poor!'\n",
    "\n",
    "Expected Result : 'The lyrics is good!'\n",
    "'The lyrics is poor!'"
   ]
  },
  {
   "cell_type": "code",
   "execution_count": null,
   "metadata": {},
   "outputs": [],
   "source": []
  },
  {
   "cell_type": "markdown",
   "metadata": {},
   "source": [
    "# 6. \n",
    "Write a Python program to remove the nth index character from a nonempty string."
   ]
  },
  {
   "cell_type": "code",
   "execution_count": 8,
   "metadata": {},
   "outputs": [
    {
     "name": "stdout",
     "output_type": "stream",
     "text": [
      "Enter string value: Hi\n",
      "H\n"
     ]
    }
   ],
   "source": [
    "s = str(input('Enter string value: '))\n",
    "print(s[:-1])"
   ]
  },
  {
   "cell_type": "markdown",
   "metadata": {},
   "source": [
    "# 7.  \n",
    "Write a Python program to replace the characters which have odd index values of a given string with \"A\"."
   ]
  },
  {
   "cell_type": "code",
   "execution_count": 20,
   "metadata": {},
   "outputs": [
    {
     "name": "stdout",
     "output_type": "stream",
     "text": [
      "A\n",
      "A\n",
      "A\n",
      "a\n"
     ]
    }
   ],
   "source": [
    "# s = str(input('Enter string value: '))\n",
    "s = 'krishna'\n",
    "for index,x in enumerate(s):\n",
    "#     print(index,x)\n",
    "    if index % 2 != 0:\n",
    "        print('A')\n",
    "print(x)\n",
    "        "
   ]
  },
  {
   "cell_type": "markdown",
   "metadata": {},
   "source": [
    "# 8. \n",
    "Write a Python function to get a string made of 4 copies of the last two characters of a specified string (length\n",
    "must be at least 2).\n",
    "\n",
    "Sample function and result :\n",
    "\n",
    "insert_end('Python') -> onononon\n",
    "\n",
    "insert_end('Exercises') -> eseseses"
   ]
  },
  {
   "cell_type": "code",
   "execution_count": 24,
   "metadata": {},
   "outputs": [
    {
     "name": "stdout",
     "output_type": "stream",
     "text": [
      "Enter string value: python\n",
      "onononon\n"
     ]
    }
   ],
   "source": [
    "s = str(input('Enter string value: '))\n",
    "\n",
    "copystr = s[-2:] * 4\n",
    "print(copystr)"
   ]
  },
  {
   "cell_type": "markdown",
   "metadata": {},
   "source": [
    "# 9. \n",
    "Write a Python function to reverses a string if it's length is a multiple of 4."
   ]
  },
  {
   "cell_type": "code",
   "execution_count": 26,
   "metadata": {},
   "outputs": [
    {
     "name": "stdout",
     "output_type": "stream",
     "text": [
      "Enter string value: captain-marvel\n",
      "levram-niatpac\n"
     ]
    }
   ],
   "source": [
    "s = str(input('Enter string value: '))\n",
    "\n",
    "if len(s) > 4:\n",
    "    rev = s[::-1]\n",
    "    print(rev)\n",
    "else:\n",
    "    print(s)"
   ]
  },
  {
   "cell_type": "markdown",
   "metadata": {},
   "source": [
    "# 10. \n",
    "Write a Python program to sort a string lexicographically.\n",
    "\n",
    "Lexicographically means a generalization of the way words are alphabetically ordered based on the alphabetical order of their component letters."
   ]
  },
  {
   "cell_type": "code",
   "execution_count": 29,
   "metadata": {},
   "outputs": [
    {
     "name": "stdout",
     "output_type": "stream",
     "text": [
      "Enter string value: Python\n",
      "hnopty\n"
     ]
    }
   ],
   "source": [
    "s = str(input('Enter string value: '))\n",
    "s1 = s.lower()\n",
    "print(''.join(sorted(s1)))"
   ]
  },
  {
   "cell_type": "markdown",
   "metadata": {},
   "source": [
    "# 11.\n",
    "Write a Python program to display formatted text (width=50) as output\n",
    "\n",
    "Note: use rjust(), ljust(), center() for adjust string in given width."
   ]
  },
  {
   "cell_type": "code",
   "execution_count": 26,
   "metadata": {},
   "outputs": [
    {
     "name": "stdout",
     "output_type": "stream",
     "text": [
      "Python********************************************\n",
      "**********************Python**********************\n",
      "********************************************Python\n"
     ]
    }
   ],
   "source": [
    "s = 'Python'\n",
    "\n",
    "print(s.ljust(50,'*'))\n",
    "print(s.center(50,'*'))\n",
    "print(s.rjust(50,'*'))"
   ]
  },
  {
   "cell_type": "markdown",
   "metadata": {},
   "source": [
    "# 12. \n",
    "Write a Python program to get a string made of the first 2 and the last 2 chars from a given a string.\n",
    "\n",
    "If the string length is less than 2, return instead of the empty string."
   ]
  },
  {
   "cell_type": "code",
   "execution_count": 28,
   "metadata": {},
   "outputs": [
    {
     "name": "stdout",
     "output_type": "stream",
     "text": [
      "Enter string value: Person\n",
      "1st2 and lst2 :  Peon\n"
     ]
    }
   ],
   "source": [
    "s = str(input('Enter string value: '))\n",
    "\n",
    "if len(s) <= 2:\n",
    "    print('Empty string: ','')\n",
    "else:\n",
    "    final_string = s[:2] + s[-2:]\n",
    "    print('1st2 and lst2 : ',final_string)"
   ]
  },
  {
   "cell_type": "markdown",
   "metadata": {},
   "source": [
    "# 13. \n",
    "\n",
    "Take a string string by input and change the case. if character is in lowercase then make it in uppercase and vicecersa ig character is digit then print digit itself.\n",
    "\n",
    "sample input: abCD5e\n",
    "\n",
    "sample output: ABcd5E"
   ]
  },
  {
   "cell_type": "code",
   "execution_count": null,
   "metadata": {},
   "outputs": [],
   "source": []
  },
  {
   "cell_type": "code",
   "execution_count": 17,
   "metadata": {},
   "outputs": [
    {
     "name": "stdout",
     "output_type": "stream",
     "text": [
      "97\n",
      "65\n",
      "A\n"
     ]
    }
   ],
   "source": [
    "s1 = 'a'\n",
    "s2 = 'A'\n",
    "print(ord(s1))\n",
    "print(ord(s2))\n",
    "\n",
    "print(chr(97-32))"
   ]
  },
  {
   "cell_type": "markdown",
   "metadata": {},
   "source": [
    "# 14.  \n",
    "Write a Python program to find the first repeated character of a given string where the index of first occurrence is smallest."
   ]
  },
  {
   "cell_type": "code",
   "execution_count": null,
   "metadata": {},
   "outputs": [],
   "source": []
  },
  {
   "cell_type": "markdown",
   "metadata": {},
   "source": [
    "# 15. \n",
    "Write a Python program to count the number of characters (character frequency) in a string.\n",
    "\n",
    "Sample String : google.com'\n",
    "\n",
    "Expected Result : {'o': 3, 'g': 2, '.': 1, 'e': 1, 'l': 1, 'm': 1, 'c': 1}"
   ]
  },
  {
   "cell_type": "code",
   "execution_count": 2,
   "metadata": {},
   "outputs": [
    {
     "name": "stdout",
     "output_type": "stream",
     "text": [
      "Enter string: google.com\n",
      "{'g': 2, 'o': 3, 'l': 1, 'e': 1, '.': 1, 'c': 1, 'm': 1}\n"
     ]
    }
   ],
   "source": [
    "s = str(input('Enter string: '))\n",
    "\n",
    "character_freq = {char : s.count(char) for char in s}\n",
    "\n",
    "print(character_freq)"
   ]
  },
  {
   "cell_type": "markdown",
   "metadata": {},
   "source": [
    "# 16. \n",
    "\n",
    "Write a program to print all digits at even place followed by digits at odd place."
   ]
  },
  {
   "cell_type": "code",
   "execution_count": null,
   "metadata": {},
   "outputs": [],
   "source": []
  }
 ],
 "metadata": {
  "kernelspec": {
   "display_name": "Python 3",
   "language": "python",
   "name": "python3"
  },
  "language_info": {
   "codemirror_mode": {
    "name": "ipython",
    "version": 3
   },
   "file_extension": ".py",
   "mimetype": "text/x-python",
   "name": "python",
   "nbconvert_exporter": "python",
   "pygments_lexer": "ipython3",
   "version": "3.7.4"
  }
 },
 "nbformat": 4,
 "nbformat_minor": 2
}
