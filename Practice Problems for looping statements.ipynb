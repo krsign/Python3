{
 "cells": [
  {
   "cell_type": "markdown",
   "metadata": {},
   "source": [
    "# 1\n",
    "\n",
    "Take 10 integers from keyboard using loop and print their average value on the screen."
   ]
  },
  {
   "cell_type": "code",
   "execution_count": 4,
   "metadata": {},
   "outputs": [
    {
     "name": "stdout",
     "output_type": "stream",
     "text": [
      "How many Numbers? 4\n",
      "Enter 0 : 1\n",
      "Enter 1 : 2\n",
      "Enter 2 : 3\n",
      "Enter 3 : 4\n",
      "Average:  2.5\n"
     ]
    }
   ],
   "source": [
    "num = int(input('How many Numbers? '))\n",
    "sum_ = 0\n",
    "for n in range(num):\n",
    "    nums = float(input('Enter {} : '.format(n)))\n",
    "    sum_ += nums\n",
    "avg = sum_ / num\n",
    "print('Average: ',avg)\n",
    "    "
   ]
  },
  {
   "cell_type": "markdown",
   "metadata": {},
   "source": [
    "# 2\n",
    "\n",
    "Print multiplication table of 24, 50 and 29 using loop."
   ]
  },
  {
   "cell_type": "code",
   "execution_count": 6,
   "metadata": {},
   "outputs": [
    {
     "name": "stdout",
     "output_type": "stream",
     "text": [
      "24\t 50\t 29\n",
      "48\t 100\t 58\n",
      "72\t 150\t 87\n",
      "96\t 200\t 116\n",
      "120\t 250\t 145\n",
      "144\t 300\t 174\n",
      "168\t 350\t 203\n",
      "192\t 400\t 232\n",
      "216\t 450\t 261\n",
      "240\t 500\t 290\n"
     ]
    }
   ],
   "source": [
    "n1 = 24\n",
    "n2 = 50\n",
    "n3 = 29\n",
    "for i in range(1,11):\n",
    "    n1 * i\n",
    "    n2 * i\n",
    "    n3 * i\n",
    "    print( n1*i, end = '\\t ')\n",
    "    print(n2*i, end = '\\t ')\n",
    "    print(n3*i)\n",
    "    \n",
    "    \n",
    "# for specific Number\n",
    "\n",
    "# n = int(input('Enter Number:'))\n",
    "# for i in range(1,11):\n",
    "#     print('\\n')\n",
    "#     print(n,' X ',i, ' =', n * i)\n",
    "    "
   ]
  },
  {
   "cell_type": "markdown",
   "metadata": {},
   "source": [
    "# 3\n",
    "\n",
    "Take integer inputs from user until user presses q ( Ask to press q to quit after every integer input ). Print average and product of all numbers."
   ]
  },
  {
   "cell_type": "code",
   "execution_count": null,
   "metadata": {},
   "outputs": [],
   "source": [
    "print('Enter Numbers: ')\n",
    "sum_ = 0\n",
    "product = 1\n",
    "count = 0\n",
    "while True:\n",
    "    n = int(input())\n",
    "    sum_ += n\n",
    "    product *= n\n",
    "    \n",
    "    count += 1\n",
    "    \n",
    "    print('press q to quit ')\n",
    "    quit = input()\n",
    "    if quit == 'q':\n",
    "        break\n",
    "    else:\n",
    "        continue\n",
    "print('Average: ', sum_/count)\n",
    "print('Product: ', product)"
   ]
  },
  {
   "cell_type": "markdown",
   "metadata": {},
   "source": [
    "# 4\n",
    "\n",
    "A three digit number is called Armstrong number if sum of cube of its digit is equal to number itself.\n",
    "E.g.- 153 is an Armstrong number because (1*1*1)+(5*5*5) + (3*3*3) = 153.\n",
    "Write all Armstrong numbers between 100 to 500."
   ]
  },
  {
   "cell_type": "code",
   "execution_count": 3,
   "metadata": {},
   "outputs": [
    {
     "name": "stdout",
     "output_type": "stream",
     "text": [
      "Enter 3 Digit Number: 153\n",
      "153 Armstrong Number\n"
     ]
    }
   ],
   "source": [
    "num = int(input('Enter 3 Digit Number: '))\n",
    "digit_sum = 0\n",
    "tn = num\n",
    "while tn > 0:\n",
    "    digit = tn % 10\n",
    "    digit_sum += digit ** 3\n",
    "    tn //= 10\n",
    "if num == digit_sum:\n",
    "    print(num,'Armstrong Number')\n",
    "else:\n",
    "    print(num,'Not Armstrong')"
   ]
  },
  {
   "cell_type": "markdown",
   "metadata": {},
   "source": [
    "# 5\n",
    "\n",
    "Write a Python program which iterates the integers from 1 to 50. For multiples of three print \"Fizz\" instead of the number and for the multiples of five print \"Buzz\". For numbers which are multiples of both three and five print \"FizzBuzz\".\n",
    "\n",
    "Sample Output :\n",
    "fizzbuzz\n",
    "1\n",
    "2\n",
    "fizz\n",
    "4\n",
    "buzz"
   ]
  },
  {
   "cell_type": "code",
   "execution_count": 26,
   "metadata": {},
   "outputs": [
    {
     "name": "stdout",
     "output_type": "stream",
     "text": [
      "FizzBuzz\n",
      "1\n",
      "2\n",
      "Fizz\n",
      "4\n",
      "Buzz\n",
      "Fizz\n",
      "7\n",
      "8\n",
      "Fizz\n",
      "Buzz\n",
      "11\n",
      "Fizz\n",
      "13\n",
      "14\n",
      "FizzBuzz\n",
      "16\n",
      "17\n",
      "Fizz\n",
      "19\n",
      "Buzz\n",
      "Fizz\n",
      "22\n",
      "23\n",
      "Fizz\n",
      "Buzz\n",
      "26\n",
      "Fizz\n",
      "28\n",
      "29\n",
      "FizzBuzz\n",
      "31\n",
      "32\n",
      "Fizz\n",
      "34\n",
      "Buzz\n",
      "Fizz\n",
      "37\n",
      "38\n",
      "Fizz\n",
      "Buzz\n",
      "41\n",
      "Fizz\n",
      "43\n",
      "44\n",
      "FizzBuzz\n",
      "46\n",
      "47\n",
      "Fizz\n",
      "49\n"
     ]
    }
   ],
   "source": [
    "for i in range(0,50):\n",
    "    \n",
    "    if (i % 3 == 0) and (i % 5 == 0):\n",
    "        print('FizzBuzz')\n",
    "    elif i % 3 == 0:\n",
    "        print('Fizz')\n",
    "    elif i % 5 == 0:\n",
    "        print('Buzz')\n",
    "    else:\n",
    "        print(i)\n",
    "        "
   ]
  },
  {
   "cell_type": "markdown",
   "metadata": {},
   "source": [
    "# 6\n",
    "\n",
    "Write a program to find greatest common divisor (GCD) or highest common factor (HCF) of given two numbers."
   ]
  },
  {
   "cell_type": "code",
   "execution_count": 15,
   "metadata": {},
   "outputs": [
    {
     "name": "stdout",
     "output_type": "stream",
     "text": [
      "Enter First Number: 88\n",
      "Enter Second Number: 44\n",
      "hcf:  44\n"
     ]
    }
   ],
   "source": [
    "def hcf(x,y):\n",
    "    while y:\n",
    "        x, y = y, x % y\n",
    "    return x\n",
    "n1 = int(input('Enter First Number: '))\n",
    "n2 = int(input('Enter Second Number: '))\n",
    "print('hcf: ',hcf(n1,n2))\n"
   ]
  },
  {
   "cell_type": "markdown",
   "metadata": {},
   "source": [
    "# 7\n",
    "\n",
    "Write a Python program to find numbers between 100 and 400 (both included) where each digit of a number is an even number. The numbers obtained should be printed in a comma-separated sequence."
   ]
  },
  {
   "cell_type": "code",
   "execution_count": 1,
   "metadata": {},
   "outputs": [
    {
     "name": "stdout",
     "output_type": "stream",
     "text": [
      "100,102,104,106,108,110,112,114,116,118,120,122,124,126,128,130,132,134,136,138,140,142,144,146,148,150,152,154,156,158,160,162,164,166,168,170,172,174,176,178,180,182,184,186,188,190,192,194,196,198,200,202,204,206,208,210,212,214,216,218,220,222,224,226,228,230,232,234,236,238,240,242,244,246,248,250,252,254,256,258,260,262,264,266,268,270,272,274,276,278,280,282,284,286,288,290,292,294,296,298,300,302,304,306,308,310,312,314,316,318,320,322,324,326,328,330,332,334,336,338,340,342,344,346,348,350,352,354,356,358,360,362,364,366,368,370,372,374,376,378,380,382,384,386,388,390,392,394,396,398,400,"
     ]
    }
   ],
   "source": [
    "for i in range(100,401):\n",
    "    if (i % 2 == 0):\n",
    "        print(i, end = ',')"
   ]
  },
  {
   "cell_type": "markdown",
   "metadata": {},
   "source": [
    "# 8\n",
    "\n",
    "Write a Python program which takes two digits m (row) and n (column) as input and generates a two-dimensional array. The element value in the i-th row and j-th column of the array should be 2*(i+j).\n",
    "\n",
    "Note :\n",
    "i = 0,1.., m-1\n",
    "j = 0,1, n-1.\n",
    "\n",
    "Test Data : Rows = 3, Columns = 4\n",
    "\n",
    "Expected Result : [[0, 2, 4, 6], [2, 4, 6, 8], [4, 6, 8, 10]]"
   ]
  },
  {
   "cell_type": "code",
   "execution_count": 1,
   "metadata": {},
   "outputs": [
    {
     "name": "stdout",
     "output_type": "stream",
     "text": [
      "Enter Rows: 3\n",
      "Enter Columns: 4\n",
      "[[0, 2, 4, 6], [2, 4, 6, 8], [4, 6, 8, 10]]\n"
     ]
    }
   ],
   "source": [
    "rows = int(input(\"Enter Rows: \"))\n",
    "cols = int(input(\"Enter Columns: \"))\n",
    "matrix = [[0 for col in range(cols)] for row in range(rows)]\n",
    "\n",
    "for row in range(rows):\n",
    "    for col in range(cols):\n",
    "        matrix[row][col]= 2 * (row + col)\n",
    "\n",
    "print(matrix)"
   ]
  },
  {
   "cell_type": "markdown",
   "metadata": {},
   "source": [
    "# 9\n",
    "Write a program to find prime factor of a number.\n",
    "If a factor of a number is prime number then it is its prime factor.\n"
   ]
  },
  {
   "cell_type": "code",
   "execution_count": null,
   "metadata": {},
   "outputs": [],
   "source": []
  },
  {
   "cell_type": "markdown",
   "metadata": {},
   "source": [
    "# 10\n",
    "Write a Python program to get the Fibonacci series. length of series should taken by user.\n",
    "\n",
    "Note : The Fibonacci Sequence is the series of numbers :\n",
    "0, 1, 1, 2, 3, 5, 8, 13, 21, ....\n",
    "Every next number is found by adding up the two numbers before it.\n",
    "Expected Output : 1 1 2 3 5 8 13 21 34.\n"
   ]
  },
  {
   "cell_type": "code",
   "execution_count": 7,
   "metadata": {},
   "outputs": [
    {
     "name": "stdout",
     "output_type": "stream",
     "text": [
      "Enter Number: 23\n",
      "0,1,1,2,3,5,8,13,21,"
     ]
    }
   ],
   "source": [
    "num = int(input('Enter Number: '))\n",
    "a, b = 0, 1\n",
    "while a < num:\n",
    "    print(a,end = ',') \n",
    "    b, a = a + b, b\n",
    "    "
   ]
  },
  {
   "cell_type": "markdown",
   "metadata": {},
   "source": [
    "# 11\n",
    "A 4 digit number is entered through keyboard. Write a program to print a new number with digits reversed as of orignal one. E.g.-\n",
    "INPUT : 1234        OUTPUT : 4321\n",
    "INPUT : 5982        OUTPUT : 2895\n",
    "NOTE:- Can not use buil-in function e.g. sort(), reverse() use loops here"
   ]
  },
  {
   "cell_type": "code",
   "execution_count": 2,
   "metadata": {},
   "outputs": [
    {
     "name": "stdout",
     "output_type": "stream",
     "text": [
      "Enter 4 Digit Number: 1234\n",
      "Reverse:  4321\n"
     ]
    }
   ],
   "source": [
    "num = int(input('Enter 4 Digit Number: '))\n",
    "rev = 0\n",
    "while num > 0:\n",
    "    reminder = num % 10\n",
    "    rev = rev * 10 + reminder\n",
    "    \n",
    "    num = int(num / 10)\n",
    "print('Reverse: ',rev)"
   ]
  },
  {
   "cell_type": "raw",
   "metadata": {},
   "source": [
    "# 12\n",
    "Write a program to find sum of digits of given number by user answer should be of single digit.\n",
    "Example: input: 25643\n",
    "         sum of digits of 2+5+6+4+3 = 20\n",
    "         again find sum of digits of 20 and final answer would be 2+0 = 2"
   ]
  },
  {
   "cell_type": "code",
   "execution_count": 5,
   "metadata": {},
   "outputs": [
    {
     "name": "stdout",
     "output_type": "stream",
     "text": [
      "Enter Number: 26543\n",
      "2\n"
     ]
    }
   ],
   "source": [
    "num = int(input('Enter Number: '))\n",
    "digit_sum = 0\n",
    "while (num > 0) or (digit_sum > 9):\n",
    "    if num == 0:\n",
    "        num = digit_sum\n",
    "        digit_sum = 0\n",
    "    else:\n",
    "        digit_sum += num % 10\n",
    "        num = int(num / 10)\n",
    "print(digit_sum)\n"
   ]
  },
  {
   "cell_type": "markdown",
   "metadata": {},
   "source": [
    "# 13\n",
    "Write a Python program to construct the following pattern, using a nested for loop.\n",
    "\n",
    "    * \n",
    "    * * \n",
    "    * * * \n",
    "    * * * * \n",
    "    * * * * * \n",
    "    * * * * \n",
    "    * * * \n",
    "    * * \n",
    "    *"
   ]
  },
  {
   "cell_type": "code",
   "execution_count": 58,
   "metadata": {
    "scrolled": true
   },
   "outputs": [
    {
     "name": "stdout",
     "output_type": "stream",
     "text": [
      "\n",
      "* \n",
      "* * \n",
      "* * * \n",
      "* * * * \n",
      "* * * * * \n",
      "* * * * \n",
      "* * * \n",
      "* * \n",
      "* \n"
     ]
    }
   ],
   "source": [
    "for i in range(0,5):\n",
    "    for j in range(i):\n",
    "        print('*',end = ' ')\n",
    "    print('')   # Prints * in newlines\n",
    "    \n",
    "    \n",
    "for i in range(5,0,-1):\n",
    "    for j in range(i):\n",
    "        print('*',end = ' ')\n",
    "    print('')\n",
    "        \n"
   ]
  },
  {
   "cell_type": "markdown",
   "metadata": {},
   "source": [
    "# 14\n",
    "Write a Python program to print alphabet pattern 'A'.\n",
    "\n",
    "       * * * \n",
    "     *       *\n",
    "     *       *\n",
    "     *       *\n",
    "     * * * * *\n",
    "     *       *\n",
    "     *       *\n",
    "     *       *"
   ]
  },
  {
   "cell_type": "code",
   "execution_count": 11,
   "metadata": {},
   "outputs": [
    {
     "name": "stdout",
     "output_type": "stream",
     "text": [
      "   * * * \n",
      " *       *\n",
      " *       *\n",
      " *       *\n",
      " * * * * *\n",
      " *       *\n",
      " *       *\n",
      " *       *\n"
     ]
    }
   ],
   "source": [
    "# Naive Method\n",
    "\n",
    "# for i in range(0,8):\n",
    "#     if i == 0:\n",
    "#         print(' ',' * * * ')\n",
    "#     elif i == 1:\n",
    "#         print(' * ','   ',' *')\n",
    "#     elif i == 2:\n",
    "#         print(' * ','   ', ' *')\n",
    "#     elif i == 3:\n",
    "#         print(' * ','   ',' *')\n",
    "#     elif i == 4:\n",
    "#         print(' * * * * * ')\n",
    "#     elif i == 5:\n",
    "#         print(' * ','   ',' *' )\n",
    "#     elif i == 6:\n",
    "#         print(' * ','   ',' *' )\n",
    "#     elif i == 7:\n",
    "#         print(' * ','   ',' *' )\n",
    "\n",
    "for i in range(0,4):\n",
    "    if i == 0:\n",
    "        print(' ',' * * * ')\n",
    "    else:\n",
    "        print(' * ','   ',' *')\n",
    "        \n",
    "for i in range(4,8):\n",
    "    if i == 4:\n",
    "        print(' * * * * *')\n",
    "    else:\n",
    "        print(' * ','   ',' *' )"
   ]
  },
  {
   "cell_type": "markdown",
   "metadata": {},
   "source": [
    "# 15\n",
    "Write a Python program to construct the following pattern, using a nested loop number.\n",
    "Expected Output:\n",
    "\n",
    "    1\n",
    "    22\n",
    "    333\n",
    "    4444\n",
    "    55555\n",
    "    666666\n",
    "    7777777\n",
    "    88888888\n",
    "    999999999\n"
   ]
  },
  {
   "cell_type": "code",
   "execution_count": 10,
   "metadata": {},
   "outputs": [
    {
     "name": "stdout",
     "output_type": "stream",
     "text": [
      "1\n",
      "22\n",
      "333\n",
      "4444\n",
      "55555\n",
      "666666\n",
      "7777777\n",
      "88888888\n",
      "999999999\n"
     ]
    }
   ],
   "source": [
    "for i in range(1,10):\n",
    "    print(str(i) * i)"
   ]
  },
  {
   "cell_type": "markdown",
   "metadata": {},
   "source": [
    "# 16\n",
    "Write a Python program to construct the following pattern, using a nested loop number.\n",
    "Expected Output:\n",
    "\n",
    "        * \n",
    "       * * \n",
    "      * * * \n",
    "     * * * * \n",
    "    * * * * *"
   ]
  },
  {
   "cell_type": "code",
   "execution_count": 56,
   "metadata": {},
   "outputs": [
    {
     "name": "stdout",
     "output_type": "stream",
     "text": [
      "     * \n",
      "    * * \n",
      "   * * * \n",
      "  * * * * \n",
      " * * * * * \n"
     ]
    }
   ],
   "source": [
    "n = 6\n",
    "for i in range(1,n):\n",
    "    print(' '*(n-i) + '* ' * i)"
   ]
  }
 ],
 "metadata": {
  "kernelspec": {
   "display_name": "Python 3",
   "language": "python",
   "name": "python3"
  },
  "language_info": {
   "codemirror_mode": {
    "name": "ipython",
    "version": 3
   },
   "file_extension": ".py",
   "mimetype": "text/x-python",
   "name": "python",
   "nbconvert_exporter": "python",
   "pygments_lexer": "ipython3",
   "version": "3.7.4"
  }
 },
 "nbformat": 4,
 "nbformat_minor": 2
}
