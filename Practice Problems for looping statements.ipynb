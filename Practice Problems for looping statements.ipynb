{
 "cells": [
  {
   "cell_type": "markdown",
   "metadata": {},
   "source": [
    "# 1\n",
    "Take 10 integers from keyboard using loop and print their average value on the screen."
   ]
  },
  {
   "cell_type": "code",
   "execution_count": 3,
   "metadata": {},
   "outputs": [
    {
     "name": "stdout",
     "output_type": "stream",
     "text": [
      "How many Numbers? 3\n",
      "Enter 1 : 4\n",
      "Enter 2 : 3\n",
      "Enter 3 : 5\n",
      "Average:  4.0\n"
     ]
    }
   ],
   "source": [
    "num = int(input('How many Numbers? '))\n",
    "sum_ = 0\n",
    "for n in range(num):\n",
    "    nums = float(input('Enter {} : '.format(n+1)))\n",
    "    sum_ += nums\n",
    "avg = sum_ / num\n",
    "print('Average: ',avg)\n",
    "    "
   ]
  },
  {
   "cell_type": "markdown",
   "metadata": {},
   "source": [
    "# 2\n",
    "Print multiplication table of 24, 50 and 29 using loop."
   ]
  },
  {
   "cell_type": "code",
   "execution_count": 1,
   "metadata": {},
   "outputs": [
    {
     "name": "stdout",
     "output_type": "stream",
     "text": [
      "24 X 1  =  24\t 50 X 1  = 50\t 29 X 1  =  29\n",
      "24 X 2  =  48\t 50 X 2  = 100\t 29 X 2  =  58\n",
      "24 X 3  =  72\t 50 X 3  = 150\t 29 X 3  =  87\n",
      "24 X 4  =  96\t 50 X 4  = 200\t 29 X 4  =  116\n",
      "24 X 5  =  120\t 50 X 5  = 250\t 29 X 5  =  145\n",
      "24 X 6  =  144\t 50 X 6  = 300\t 29 X 6  =  174\n",
      "24 X 7  =  168\t 50 X 7  = 350\t 29 X 7  =  203\n",
      "24 X 8  =  192\t 50 X 8  = 400\t 29 X 8  =  232\n",
      "24 X 9  =  216\t 50 X 9  = 450\t 29 X 9  =  261\n",
      "24 X 10  =  240\t 50 X 10  = 500\t 29 X 10  =  290\n"
     ]
    }
   ],
   "source": [
    "n1 = 24\n",
    "n2 = 50\n",
    "n3 = 29\n",
    "for i in range(1,11):\n",
    "    n1 * i\n",
    "    n2 * i\n",
    "    n3 * i\n",
    "    print(n1,'X',i,' = ', n1*i, end = '\\t ')\n",
    "    print(n2,'X',i,' =', n2*i, end = '\\t ')\n",
    "    print(n3,'X',i,' = ', n3*i)\n",
    "    \n",
    "\n",
    "    \n",
    "# for specific Number\n",
    "\n",
    "# n = int(input('Enter Number:'))\n",
    "# for i in range(1,11):\n",
    "#     print('\\n')\n",
    "#     print(n,' X ',i, ' =', n * i)\n",
    "    "
   ]
  },
  {
   "cell_type": "markdown",
   "metadata": {},
   "source": [
    "# 3\n",
    "Take integer inputs from user until user presses q ( Ask to press q to quit after every integer input ). Print average and product of all numbers.\n"
   ]
  },
  {
   "cell_type": "code",
   "execution_count": null,
   "metadata": {},
   "outputs": [],
   "source": []
  }
 ],
 "metadata": {
  "kernelspec": {
   "display_name": "Python 3",
   "language": "python",
   "name": "python3"
  },
  "language_info": {
   "codemirror_mode": {
    "name": "ipython",
    "version": 3
   },
   "file_extension": ".py",
   "mimetype": "text/x-python",
   "name": "python",
   "nbconvert_exporter": "python",
   "pygments_lexer": "ipython3",
   "version": "3.7.4"
  }
 },
 "nbformat": 4,
 "nbformat_minor": 2
}
