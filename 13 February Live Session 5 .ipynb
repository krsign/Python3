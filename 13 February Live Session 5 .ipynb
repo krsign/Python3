{
 "cells": [
  {
   "cell_type": "code",
   "execution_count": 5,
   "metadata": {},
   "outputs": [
    {
     "name": "stdout",
     "output_type": "stream",
     "text": [
      "Enter Number3\n",
      "6\n"
     ]
    }
   ],
   "source": [
    "n  = int(input('Enter Number: '))\n",
    "fact = 1\n",
    "while n > 0:\n",
    "    fact = fact * n\n",
    "    n = n-1\n",
    "print(fact)"
   ]
  },
  {
   "cell_type": "code",
   "execution_count": 11,
   "metadata": {},
   "outputs": [
    {
     "name": "stdout",
     "output_type": "stream",
     "text": [
      "Enter Number: 8\n",
      "Not perfect \n"
     ]
    }
   ],
   "source": [
    "num = int(input('Enter Number: '))\n",
    "sum = 0\n",
    "for i in range(1, n):\n",
    "    if (n % i == 0):\n",
    "        sum = sum + i\n",
    "if sum == num:\n",
    "    print('perfect Num')\n",
    "else:\n",
    "    print('Not perfect ')"
   ]
  },
  {
   "cell_type": "code",
   "execution_count": 1,
   "metadata": {},
   "outputs": [
    {
     "name": "stdout",
     "output_type": "stream",
     "text": [
      "a b c d e f g h i j k l m n o p q r s t u v w x y z "
     ]
    }
   ],
   "source": [
    "for i in range(97,123):\n",
    "    print(chr(i),end=' ')"
   ]
  },
  {
   "cell_type": "code",
   "execution_count": 2,
   "metadata": {},
   "outputs": [
    {
     "name": "stdout",
     "output_type": "stream",
     "text": [
      "210\n"
     ]
    }
   ],
   "source": [
    "num = 20\n",
    "sum = 0\n",
    "\n",
    "while num > 0:\n",
    "    sum = sum + num\n",
    "    num = num -1\n",
    "print(sum)"
   ]
  }
 ],
 "metadata": {
  "kernelspec": {
   "display_name": "Python 3",
   "language": "python",
   "name": "python3"
  },
  "language_info": {
   "codemirror_mode": {
    "name": "ipython",
    "version": 3
   },
   "file_extension": ".py",
   "mimetype": "text/x-python",
   "name": "python",
   "nbconvert_exporter": "python",
   "pygments_lexer": "ipython3",
   "version": "3.7.4"
  }
 },
 "nbformat": 4,
 "nbformat_minor": 2
}
